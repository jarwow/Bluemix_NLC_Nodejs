{
  "nbformat": 4,
  "nbformat_minor": 0,
  "metadata": {
    "colab": {
      "name": "Untitled",
      "version": "0.3.2",
      "provenance": [],
      "include_colab_link": true
    },
    "kernelspec": {
      "name": "python3",
      "display_name": "Python 3"
    }
  },
  "cells": [
    {
      "cell_type": "markdown",
      "metadata": {
        "id": "view-in-github",
        "colab_type": "text"
      },
      "source": [
        "<a href=\"https://colab.research.google.com/github/jarwow/Bluemix_NLC_Nodejs/blob/master/ann.ipynb\" target=\"_parent\"><img src=\"https://colab.research.google.com/assets/colab-badge.svg\" alt=\"Open In Colab\"/></a>"
      ]
    },
    {
      "metadata": {
        "id": "eqUINkBnqcYP",
        "colab_type": "code",
        "colab": {
          "base_uri": "https://localhost:8080/",
          "height": 357
        },
        "outputId": "595d35fd-5767-45ef-88dd-5ae79a694a19"
      },
      "cell_type": "code",
      "source": [
        "  \n",
        "import numpy as np\n",
        "\n",
        "\n",
        "# Times to run\n",
        "epoch = 10000\n",
        "\n",
        "\n",
        "# There are 2 inputs\n",
        "inputLayerSize = 2\n",
        "\n",
        "\n",
        "# NN nodes\n",
        "hiddenLayerSize = 5\n",
        "\n",
        "\n",
        "# Only one output\n",
        "outputLayerSize = 1\n",
        "\n",
        "\n",
        "L=0.1\n",
        "\n",
        "\n",
        "# There are 2 inputs for XOR\n",
        "X = np.array( [ [0,0], [0,1], [1,0], [1,1] ] )\n",
        "\n",
        "\n",
        "# The truth table of XOR\n",
        "# ANN just can learn from truly examples!!!\n",
        "#     (adjust the weight and bias to make output is getting close to target by input)\n",
        "Y = np.array( [ [0], [1], [1], [0] ] )\n",
        "\n",
        "\n",
        "def sigmod(x):\n",
        "    return 1 / (1 + np.exp(-x))\n",
        "\n",
        "\n",
        "def sigmoid_deriv(x):\n",
        "\treturn x * (1 - x)\n",
        "\t\n",
        "Wh = np.random.uniform(size=(inputLayerSize, hiddenLayerSize))\n",
        "Wz = np.random.uniform(size=(hiddenLayerSize, outputLayerSize))\n",
        "\n",
        "\n",
        "for i in range(epoch):\n",
        " H = sigmod(np.dot(X, Wh))\n",
        " Z = np.dot(H, Wz)\n",
        " E = Y - Z\n",
        " dZ = E * L\n",
        " Wz += H.T.dot(dZ)\n",
        " dH = dZ.dot(Wz.T) * sigmoid_deriv(H)\n",
        " Wh +=  X.T.dot(dH)\n",
        "\n",
        "\n",
        "print(\"**************** error ****************\") \n",
        "print(E)\n",
        "print(\"***************** output **************\") \n",
        "print(Z)   \n",
        "print(\"*************** weights ***************\") \n",
        "print(\"input to hidden layer weights: \")     \n",
        "print(Wh)\n",
        "print(\"hidden to output layer weights: \")\n",
        "print(Wz)\n"
      ],
      "execution_count": 4,
      "outputs": [
        {
          "output_type": "stream",
          "text": [
            "**************** error ****************\n",
            "[[-3.10862447e-15]\n",
            " [ 3.99680289e-15]\n",
            " [ 3.77475828e-15]\n",
            " [-6.21724894e-15]]\n",
            "***************** output **************\n",
            "[[3.10862447e-15]\n",
            " [1.00000000e+00]\n",
            " [1.00000000e+00]\n",
            " [6.21724894e-15]]\n",
            "*************** weights ***************\n",
            "input to hidden layer weights: \n",
            "[[ 3.80494256 -1.18335007  1.27881706 -0.84758346  0.01640419]\n",
            " [ 4.00178074 -0.13680946  0.11641183 -0.23826213  1.46013726]]\n",
            "hidden to output layer weights: \n",
            "[[ 4.44494683]\n",
            " [ 0.95104461]\n",
            " [-2.6871747 ]\n",
            " [ 0.50730827]\n",
            " [-3.21612501]]\n"
          ],
          "name": "stdout"
        }
      ]
    }
  ]
}